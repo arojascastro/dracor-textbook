{
 "cells": [
  {
   "cell_type": "markdown",
   "metadata": {},
   "source": [
    "# DraCor API basics\\n",
    "\\n",
    "In this short demo we call the DraCor API using the helper in `utils/dracor_client.py` and preview a couple of results."
   ]
  },
  {
   "cell_type": "code",
   "execution_count": null,
   "metadata": {},
   "outputs": [],
   "source": [
    "from utils import dracor_client as dc\\n",
    "corpora = dc.corpora()\\n",
    "corpora[:5]"
   ]
  },
  {
   "cell_type": "code",
   "execution_count": null,
   "metadata": {},
   "outputs": [],
   "source": [
    "import pandas as pd\\n",
    "df = pd.DataFrame(corpora)\\n",
    "df[['id','name']].head()"
   ]
  },
  {
   "cell_type": "code",
   "execution_count": null,
   "metadata": {},
   "outputs": [],
   "source": [
    "# Pick the first corpus and list a few plays\\n",
    "first_corpus = corpora[0]['id']\\n",
    "plays = dc.corpus_plays(first_corpus)\\n",
    "pd.DataFrame(plays)[['id','title']].head()"
   ]
  }
 ],
 "metadata": {
  "kernelspec": {
   "display_name": "Python 3",
   "language": "python",
   "name": "python3"
  },
  "language_info": {
   "name": "python",
   "pygments_lexer": "ipython3"
  }
 },
 "nbformat": 4,
 "nbformat_minor": 5
}
