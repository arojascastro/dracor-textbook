{
 "cells": [
  {
   "cell_type": "markdown",
   "id": "32c9bed1",
   "metadata": {},
   "source": [
    "# DraCor API basics\\n\\nIn this short demo we call the DraCor API using the helper in `utils/dracor_client.py` and preview a couple of results."
   ]
  },
  {
   "cell_type": "code",
   "execution_count": 1,
   "id": "61a6b923",
   "metadata": {},
   "outputs": [
    {
     "ename": "SyntaxError",
     "evalue": "unexpected character after line continuation character (922888146.py, line 1)",
     "output_type": "error",
     "traceback": [
      "\u001b[0;36m  Cell \u001b[0;32mIn[1], line 1\u001b[0;36m\u001b[0m\n\u001b[0;31m    from utils import dracor_client as dc\\ncorpora = dc.corpora()\\ncorpora[:5]\u001b[0m\n\u001b[0m                                          ^\u001b[0m\n\u001b[0;31mSyntaxError\u001b[0m\u001b[0;31m:\u001b[0m unexpected character after line continuation character\n"
     ]
    }
   ],
   "source": [
    "from utils import dracor_client as dc\\ncorpora = dc.corpora()\\ncorpora[:5]"
   ]
  },
  {
   "cell_type": "code",
   "execution_count": null,
   "id": "4485d860",
   "metadata": {},
   "outputs": [],
   "source": [
    "import pandas as pd\\ndf = pd.DataFrame(corpora)\\ndf[['id','name']].head()"
   ]
  },
  {
   "cell_type": "code",
   "execution_count": null,
   "id": "f62f773c",
   "metadata": {},
   "outputs": [],
   "source": [
    "# Pick the first corpus and list a few plays\\nfirst_corpus = corpora[0]['id']\\nplays = dc.corpus_plays(first_corpus)\\npd.DataFrame(plays)[['id','title']].head()"
   ]
  }
 ],
 "metadata": {
  "kernelspec": {
   "display_name": "Python 3",
   "language": "python",
   "name": "python3"
  },
  "language_info": {
   "codemirror_mode": {
    "name": "ipython",
    "version": 3
   },
   "file_extension": ".py",
   "mimetype": "text/x-python",
   "name": "python",
   "nbconvert_exporter": "python",
   "pygments_lexer": "ipython3",
   "version": "3.12.1"
  }
 },
 "nbformat": 4,
 "nbformat_minor": 5
}