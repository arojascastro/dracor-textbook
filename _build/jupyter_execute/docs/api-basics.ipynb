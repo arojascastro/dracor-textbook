{
 "cells": [
  {
   "cell_type": "markdown",
   "id": "ff6f7c96",
   "metadata": {},
   "source": [
    "# DraCor API: first steps\n",
    "\n",
    "This short chapter shows how to list DraCor corpora and peek at a few plays via the HTTP API using a tiny helper (`utils/dracor_client.py`)."
   ]
  },
  {
   "cell_type": "markdown",
   "id": "23762a54",
   "metadata": {},
   "source": [
    "> **Learning goals**\n",
    "> - Call the DraCor API from Python.\n",
    "> - List available corpora and preview plays.\n",
    ">\n",
    "> **Requirements**\n",
    "> - Basic Python; internet connection.\n",
    ">\n",
    "> **What you'll do**\n",
    "> 1) Import a small API helper. 2) Fetch corpora. 3) Count plays in a few corpora.\n",
    ">\n",
    "> **Exercise (at the end)**\n",
    "> - Repeat for different corpora; compare sizes and languages."
   ]
  },
  {
   "cell_type": "code",
   "execution_count": 1,
   "id": "034b2255",
   "metadata": {},
   "outputs": [
    {
     "ename": "ModuleNotFoundError",
     "evalue": "No module named 'utils'",
     "output_type": "error",
     "traceback": [
      "\u001b[0;31m---------------------------------------------------------------------------\u001b[0m",
      "\u001b[0;31mModuleNotFoundError\u001b[0m                       Traceback (most recent call last)",
      "Cell \u001b[0;32mIn[1], line 6\u001b[0m\n\u001b[1;32m      3\u001b[0m pd\u001b[38;5;241m.\u001b[39mset_option(\u001b[38;5;124m\"\u001b[39m\u001b[38;5;124mdisplay.max_colwidth\u001b[39m\u001b[38;5;124m\"\u001b[39m, \u001b[38;5;241m80\u001b[39m)\n\u001b[1;32m      4\u001b[0m pd\u001b[38;5;241m.\u001b[39mset_option(\u001b[38;5;124m\"\u001b[39m\u001b[38;5;124mdisplay.precision\u001b[39m\u001b[38;5;124m\"\u001b[39m, \u001b[38;5;241m0\u001b[39m)\n\u001b[0;32m----> 6\u001b[0m \u001b[38;5;28;01mfrom\u001b[39;00m \u001b[38;5;21;01mutils\u001b[39;00m \u001b[38;5;28;01mimport\u001b[39;00m dracor_client \u001b[38;5;28;01mas\u001b[39;00m dc\n\u001b[1;32m      7\u001b[0m \u001b[38;5;28;01mfrom\u001b[39;00m \u001b[38;5;21;01mdatetime\u001b[39;00m \u001b[38;5;28;01mimport\u001b[39;00m datetime\n\u001b[1;32m      8\u001b[0m \u001b[38;5;28mprint\u001b[39m(\u001b[38;5;124m\"\u001b[39m\u001b[38;5;124mLast run:\u001b[39m\u001b[38;5;124m\"\u001b[39m, datetime\u001b[38;5;241m.\u001b[39mutcnow()\u001b[38;5;241m.\u001b[39mstrftime(\u001b[38;5;124m\"\u001b[39m\u001b[38;5;124m%\u001b[39m\u001b[38;5;124mY-\u001b[39m\u001b[38;5;124m%\u001b[39m\u001b[38;5;124mm-\u001b[39m\u001b[38;5;132;01m%d\u001b[39;00m\u001b[38;5;124m \u001b[39m\u001b[38;5;124m%\u001b[39m\u001b[38;5;124mH:\u001b[39m\u001b[38;5;124m%\u001b[39m\u001b[38;5;124mM UTC\u001b[39m\u001b[38;5;124m\"\u001b[39m))\n",
      "\u001b[0;31mModuleNotFoundError\u001b[0m: No module named 'utils'"
     ]
    }
   ],
   "source": [
    "# Setup (pretty display and imports)\n",
    "import pandas as pd\n",
    "pd.set_option(\"display.max_colwidth\", 80)\n",
    "pd.set_option(\"display.precision\", 0)\n",
    "\n",
    "from utils import dracor_client as dc\n",
    "from datetime import datetime\n",
    "print(\"Last run:\", datetime.utcnow().strftime(\"%Y-%m-%d %H:%M UTC\"))"
   ]
  },
  {
   "cell_type": "code",
   "execution_count": null,
   "id": "8512672b",
   "metadata": {},
   "outputs": [],
   "source": [
    "# 1) Fetch all corpora\n",
    "corpora = dc.corpora()\n",
    "len(corpora), corpora[:2]  # quick sanity check (length + first 2 items)"
   ]
  },
  {
   "cell_type": "code",
   "execution_count": null,
   "id": "d2739d21",
   "metadata": {},
   "outputs": [],
   "source": [
    "# 2) Put corpora into a tidy DataFrame\n",
    "df_corpora = pd.DataFrame(corpora)\n",
    "# Different corpora may expose different metadata; keep safe columns.\n",
    "keep = [c for c in [\"id\", \"name\", \"description\", \"languages\"] if c in df_corpora.columns]\n",
    "df_corpora[keep].head().style.set_properties(**{\"text-align\": \"left\"})"
   ]
  },
  {
   "cell_type": "markdown",
   "id": "0a0a7f65",
   "metadata": {},
   "source": [
    "## How many plays per corpus?\n",
    "Let’s sample a handful of corpora and count how many plays each contains."
   ]
  },
  {
   "cell_type": "code",
   "execution_count": null,
   "id": "fa6e400b",
   "metadata": {},
   "outputs": [],
   "source": [
    "sample = corpora[:6]  # take the first six corpora for a quick preview\n",
    "rows = []\n",
    "for c in sample:\n",
    "    cid = c.get(\"id\")\n",
    "    try:\n",
    "        plays = dc.corpus_plays(cid)\n",
    "        rows.append({\"corpus\": cid, \"n_plays\": len(plays)})\n",
    "    except Exception as e:\n",
    "        rows.append({\"corpus\": cid, \"n_plays\": None, \"error\": str(e)[:60]})\n",
    "pd.DataFrame(rows)"
   ]
  },
  {
   "cell_type": "code",
   "execution_count": null,
   "id": "89b15ede",
   "metadata": {},
   "outputs": [],
   "source": [
    "# 3) Small bar chart (top: first six corpora)\n",
    "import matplotlib.pyplot as plt\n",
    "counts = pd.DataFrame(rows).dropna(subset=[\"n_plays\"]).sort_values(\"n_plays\", ascending=False)\n",
    "plt.figure(figsize=(6,3.5))\n",
    "plt.bar(counts[\"corpus\"], counts[\"n_plays\"]) \n",
    "plt.title(\"Play counts (sampled corpora)\")\n",
    "plt.ylabel(\"# plays\")\n",
    "plt.xticks(rotation=45, ha=\"right\")\n",
    "plt.tight_layout()\n",
    "plt.show()"
   ]
  },
  {
   "cell_type": "markdown",
   "id": "22ea8416",
   "metadata": {},
   "source": [
    "## Exercise\n",
    "\n",
    "1. Change `sample = corpora[:6]` to something like `sample = [c for c in corpora if c['id'] in ['ger', 'rus', 'ita']]`.\n",
    "2. Re-run the counting cell. Which corpus has the most plays?\n",
    "3. Optional: fetch the plays for one corpus (`dc.corpus_plays('ger')`) and list the first 5 titles as a table."
   ]
  },
  {
   "cell_type": "markdown",
   "id": "b1bf92a3",
   "metadata": {},
   "source": [
    "> **Takeaways**\n",
    "> - You can access DraCor corpora and plays with a few lines of code.\n",
    "> - Keeping results in tidy DataFrames makes quick summaries and plots trivial.\n",
    "> - In later chapters we’ll navigate plays, characters, and networks in more detail."
   ]
  }
 ],
 "metadata": {
  "kernelspec": {
   "display_name": "Python 3",
   "language": "python",
   "name": "python3"
  },
  "language_info": {
   "codemirror_mode": {
    "name": "ipython",
    "version": 3
   },
   "file_extension": ".py",
   "mimetype": "text/x-python",
   "name": "python",
   "nbconvert_exporter": "python",
   "pygments_lexer": "ipython3",
   "version": "3.12.1"
  }
 },
 "nbformat": 4,
 "nbformat_minor": 5
}