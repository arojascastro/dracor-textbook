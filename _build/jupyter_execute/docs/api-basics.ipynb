{
 "cells": [
  {
   "cell_type": "markdown",
   "id": "2d17caf3",
   "metadata": {},
   "source": [
    "# DraCor API: first steps\n",
    "\n",
    "This short chapter shows how to list DraCor corpora and peek at a few plays via the HTTP API using a tiny helper (`utils/dracor_client.py`)."
   ]
  },
  {
   "cell_type": "markdown",
   "id": "8a53041b",
   "metadata": {},
   "source": [
    "> **Learning goals**\n",
    "> - Call the DraCor API from Python.\n",
    "> - List available corpora and preview plays.\n",
    ">\n",
    "> **Requirements**\n",
    "> - Basic Python; internet connection.\n",
    ">\n",
    "> **What you'll do**\n",
    "> 1) Import a small API helper. 2) Fetch corpora. 3) Count plays in a few corpora.\n",
    ">\n",
    "> **Exercise (at the end)**\n",
    "> - Repeat for different corpora; compare sizes and languages."
   ]
  },
  {
   "cell_type": "code",
   "execution_count": 1,
   "id": "a690b3a5",
   "metadata": {},
   "outputs": [],
   "source": [
    "# Make project root importable so `from utils import dracor_client` works\n",
    "import os, sys\n",
    "from pathlib import Path\n",
    "\n",
    "# If running the .ipynb from docs/, go one level up to project root\n",
    "PROJECT_ROOT = Path.cwd()\n",
    "if (PROJECT_ROOT / \"docs\").exists():\n",
    "    PROJECT_ROOT = PROJECT_ROOT\n",
    "\n",
    "# Handle cases where the CWD is docs/ or the book’s build dir\n",
    "candidates = [\n",
    "    PROJECT_ROOT,                  # when running in docs/\n",
    "    PROJECT_ROOT.parent,           # when running at project root\n",
    "    Path(__file__).resolve().parents[1] if \"__file__\" in globals() else None\n",
    "]\n",
    "for p in [c for c in candidates if c]:\n",
    "    if (p / \"utils\" / \"dracor_client.py\").exists():\n",
    "        sys.path.insert(0, str(p))\n",
    "        break\n"
   ]
  },
  {
   "cell_type": "code",
   "execution_count": 2,
   "id": "e803cf9b",
   "metadata": {},
   "outputs": [
    {
     "name": "stdout",
     "output_type": "stream",
     "text": [
      "Last run: 2025-08-27 14:03 UTC\n"
     ]
    },
    {
     "name": "stderr",
     "output_type": "stream",
     "text": [
      "/var/folders/84/8bnpqjtx4gdbqmjxlnf650vw0000gn/T/ipykernel_60023/1323785047.py:8: DeprecationWarning: datetime.datetime.utcnow() is deprecated and scheduled for removal in a future version. Use timezone-aware objects to represent datetimes in UTC: datetime.datetime.now(datetime.UTC).\n",
      "  print(\"Last run:\", datetime.utcnow().strftime(\"%Y-%m-%d %H:%M UTC\"))\n"
     ]
    }
   ],
   "source": [
    "# Setup (pretty display and imports)\n",
    "import pandas as pd\n",
    "pd.set_option(\"display.max_colwidth\", 80)\n",
    "pd.set_option(\"display.precision\", 0)\n",
    "\n",
    "from utils import dracor_client as dc\n",
    "from datetime import datetime\n",
    "print(\"Last run:\", datetime.utcnow().strftime(\"%Y-%m-%d %H:%M UTC\"))"
   ]
  },
  {
   "cell_type": "code",
   "execution_count": 3,
   "id": "38d9146c",
   "metadata": {},
   "outputs": [
    {
     "data": {
      "text/plain": [
       "(21,\n",
       " [{'description': 'Edited by Pablo Ruiz Fabo ([MeThAL project](https://methal.pages.unistra.fr/) at University of Strasbourg). Features a growing number of Alsation plays from the 19th and 20th century. For a corpus description and full credits please see the [README on GitHub](https://github.com/dracor-org/alsdracor).',\n",
       "   'commit': '3845f3d0fe1fe40d2fee15974235dbcc912f96ca',\n",
       "   'uri': 'https://dracor.org/api/v1/corpora/als',\n",
       "   'title': 'Alsatian Drama Corpus',\n",
       "   'repository': 'https://github.com/dracor-org/alsdracor',\n",
       "   'name': 'als',\n",
       "   'acronym': 'AlsDraCor'},\n",
       "  {'description': 'Edited by Dennis Mischke, Luca Giovannini, Daniil Skorinkin. A vanilla corpus is being prepared for DH2024.',\n",
       "   'commit': 'ceabc51c4068feb3e42b8ba343f774ef648ce8c0',\n",
       "   'uri': 'https://dracor.org/api/v1/corpora/am',\n",
       "   'title': 'American Drama Corpus',\n",
       "   'repository': 'https://github.com/dracor-org/amdracor',\n",
       "   'name': 'am',\n",
       "   'acronym': 'AmDraCor'}])"
      ]
     },
     "execution_count": 3,
     "metadata": {},
     "output_type": "execute_result"
    }
   ],
   "source": [
    "# 1) Fetch all corpora\n",
    "corpora = dc.corpora()\n",
    "len(corpora), corpora[:2]  # quick sanity check (length + first 2 items)"
   ]
  },
  {
   "cell_type": "code",
   "execution_count": 4,
   "id": "95e1002f",
   "metadata": {},
   "outputs": [
    {
     "data": {
      "text/html": [
       "<style type=\"text/css\">\n",
       "#T_8c0bd_row0_col0, #T_8c0bd_row0_col1, #T_8c0bd_row1_col0, #T_8c0bd_row1_col1, #T_8c0bd_row2_col0, #T_8c0bd_row2_col1, #T_8c0bd_row3_col0, #T_8c0bd_row3_col1, #T_8c0bd_row4_col0, #T_8c0bd_row4_col1 {\n",
       "  text-align: left;\n",
       "}\n",
       "</style>\n",
       "<table id=\"T_8c0bd\">\n",
       "  <thead>\n",
       "    <tr>\n",
       "      <th class=\"blank level0\" >&nbsp;</th>\n",
       "      <th id=\"T_8c0bd_level0_col0\" class=\"col_heading level0 col0\" >name</th>\n",
       "      <th id=\"T_8c0bd_level0_col1\" class=\"col_heading level0 col1\" >description</th>\n",
       "    </tr>\n",
       "  </thead>\n",
       "  <tbody>\n",
       "    <tr>\n",
       "      <th id=\"T_8c0bd_level0_row0\" class=\"row_heading level0 row0\" >0</th>\n",
       "      <td id=\"T_8c0bd_row0_col0\" class=\"data row0 col0\" >als</td>\n",
       "      <td id=\"T_8c0bd_row0_col1\" class=\"data row0 col1\" >Edited by Pablo Ruiz Fabo ([MeThAL project](https://methal.pages.unistra.fr/) at University of Strasbourg). Features a growing number of Alsation plays from the 19th and 20th century. For a corpus description and full credits please see the [README on GitHub](https://github.com/dracor-org/alsdracor).</td>\n",
       "    </tr>\n",
       "    <tr>\n",
       "      <th id=\"T_8c0bd_level0_row1\" class=\"row_heading level0 row1\" >1</th>\n",
       "      <td id=\"T_8c0bd_row1_col0\" class=\"data row1 col0\" >am</td>\n",
       "      <td id=\"T_8c0bd_row1_col1\" class=\"data row1 col1\" >Edited by Dennis Mischke, Luca Giovannini, Daniil Skorinkin. A vanilla corpus is being prepared for DH2024.</td>\n",
       "    </tr>\n",
       "    <tr>\n",
       "      <th id=\"T_8c0bd_level0_row2\" class=\"row_heading level0 row2\" >2</th>\n",
       "      <td id=\"T_8c0bd_row2_col0\" class=\"data row2 col0\" >bash</td>\n",
       "      <td id=\"T_8c0bd_row2_col1\" class=\"data row2 col1\" >Edited by Boris Orekhov. Contains a growing number of plays in the Bashkir language. Works still under copyright published with the permission of the rights holders.</td>\n",
       "    </tr>\n",
       "    <tr>\n",
       "      <th id=\"T_8c0bd_level0_row3\" class=\"row_heading level0 row3\" >3</th>\n",
       "      <td id=\"T_8c0bd_row3_col0\" class=\"data row3 col0\" >cal</td>\n",
       "      <td id=\"T_8c0bd_row3_col1\" class=\"data row3 col1\" >Edited by members of the [Institute of Romance Languages and Literatures at University of Tübingen](https://uni-tuebingen.de/en/fakultaeten/philosophische-fakultaet/fachbereiche/neuphilologie/romanisches-seminar/home/) and the [Institute of Romance Studies at University of Vienna](https://romanistik.univie.ac.at/). For a corpus description and full credits please see the [README on GitHub](https://github.com/dracor-org/caldracor).</td>\n",
       "    </tr>\n",
       "    <tr>\n",
       "      <th id=\"T_8c0bd_level0_row4\" class=\"row_heading level0 row4\" >4</th>\n",
       "      <td id=\"T_8c0bd_row4_col0\" class=\"data row4 col0\" >dutch</td>\n",
       "      <td id=\"T_8c0bd_row4_col1\" class=\"data row4 col1\" >Edited by Lucas van der Deijl. Features 180 Dutch-language plays from 1539-1786. For a corpus description and full credits please see the [README on GitHub](https://github.com/dracor-org/dutchdracor).</td>\n",
       "    </tr>\n",
       "  </tbody>\n",
       "</table>\n"
      ],
      "text/plain": [
       "<pandas.io.formats.style.Styler at 0x10a3d83e0>"
      ]
     },
     "execution_count": 4,
     "metadata": {},
     "output_type": "execute_result"
    }
   ],
   "source": [
    "# 2) Put corpora into a tidy DataFrame\n",
    "df_corpora = pd.DataFrame(corpora)\n",
    "# Different corpora may expose different metadata; keep safe columns.\n",
    "keep = [c for c in [\"id\", \"name\", \"description\", \"languages\"] if c in df_corpora.columns]\n",
    "df_corpora[keep].head().style.set_properties(**{\"text-align\": \"left\"})"
   ]
  },
  {
   "cell_type": "markdown",
   "id": "8f4c3212",
   "metadata": {},
   "source": [
    "## How many plays per corpus?\n",
    "Let’s sample a handful of corpora and count how many plays each contains."
   ]
  },
  {
   "cell_type": "code",
   "execution_count": 5,
   "id": "62f73a05",
   "metadata": {},
   "outputs": [
    {
     "data": {
      "text/html": [
       "<div>\n",
       "<style scoped>\n",
       "    .dataframe tbody tr th:only-of-type {\n",
       "        vertical-align: middle;\n",
       "    }\n",
       "\n",
       "    .dataframe tbody tr th {\n",
       "        vertical-align: top;\n",
       "    }\n",
       "\n",
       "    .dataframe thead th {\n",
       "        text-align: right;\n",
       "    }\n",
       "</style>\n",
       "<table border=\"1\" class=\"dataframe\">\n",
       "  <thead>\n",
       "    <tr style=\"text-align: right;\">\n",
       "      <th></th>\n",
       "      <th>corpus</th>\n",
       "      <th>n_plays</th>\n",
       "      <th>error</th>\n",
       "    </tr>\n",
       "  </thead>\n",
       "  <tbody>\n",
       "    <tr>\n",
       "      <th>0</th>\n",
       "      <td>None</td>\n",
       "      <td>None</td>\n",
       "      <td>400 Client Error: Bad Request for url: https://dracor.org/ap</td>\n",
       "    </tr>\n",
       "    <tr>\n",
       "      <th>1</th>\n",
       "      <td>None</td>\n",
       "      <td>None</td>\n",
       "      <td>400 Client Error: Bad Request for url: https://dracor.org/ap</td>\n",
       "    </tr>\n",
       "    <tr>\n",
       "      <th>2</th>\n",
       "      <td>None</td>\n",
       "      <td>None</td>\n",
       "      <td>400 Client Error: Bad Request for url: https://dracor.org/ap</td>\n",
       "    </tr>\n",
       "    <tr>\n",
       "      <th>3</th>\n",
       "      <td>None</td>\n",
       "      <td>None</td>\n",
       "      <td>400 Client Error: Bad Request for url: https://dracor.org/ap</td>\n",
       "    </tr>\n",
       "    <tr>\n",
       "      <th>4</th>\n",
       "      <td>None</td>\n",
       "      <td>None</td>\n",
       "      <td>400 Client Error: Bad Request for url: https://dracor.org/ap</td>\n",
       "    </tr>\n",
       "    <tr>\n",
       "      <th>5</th>\n",
       "      <td>None</td>\n",
       "      <td>None</td>\n",
       "      <td>400 Client Error: Bad Request for url: https://dracor.org/ap</td>\n",
       "    </tr>\n",
       "  </tbody>\n",
       "</table>\n",
       "</div>"
      ],
      "text/plain": [
       "  corpus n_plays                                                         error\n",
       "0   None    None  400 Client Error: Bad Request for url: https://dracor.org/ap\n",
       "1   None    None  400 Client Error: Bad Request for url: https://dracor.org/ap\n",
       "2   None    None  400 Client Error: Bad Request for url: https://dracor.org/ap\n",
       "3   None    None  400 Client Error: Bad Request for url: https://dracor.org/ap\n",
       "4   None    None  400 Client Error: Bad Request for url: https://dracor.org/ap\n",
       "5   None    None  400 Client Error: Bad Request for url: https://dracor.org/ap"
      ]
     },
     "execution_count": 5,
     "metadata": {},
     "output_type": "execute_result"
    }
   ],
   "source": [
    "sample = corpora[:6]  # take the first six corpora for a quick preview\n",
    "rows = []\n",
    "for c in sample:\n",
    "    cid = c.get(\"id\")\n",
    "    try:\n",
    "        plays = dc.corpus_plays(cid)\n",
    "        rows.append({\"corpus\": cid, \"n_plays\": len(plays)})\n",
    "    except Exception as e:\n",
    "        rows.append({\"corpus\": cid, \"n_plays\": None, \"error\": str(e)[:60]})\n",
    "pd.DataFrame(rows)"
   ]
  },
  {
   "cell_type": "code",
   "execution_count": 6,
   "id": "190f80c3",
   "metadata": {},
   "outputs": [
    {
     "data": {
      "image/png": "[encoded data removed]",
      "text/plain": [
       "<Figure size 600x350 with 1 Axes>"
      ]
     },
     "metadata": {},
     "output_type": "display_data"
    }
   ],
   "source": [
    "# 3) Small bar chart (top: first six corpora)\n",
    "import matplotlib.pyplot as plt\n",
    "counts = pd.DataFrame(rows).dropna(subset=[\"n_plays\"]).sort_values(\"n_plays\", ascending=False)\n",
    "plt.figure(figsize=(6,3.5))\n",
    "plt.bar(counts[\"corpus\"], counts[\"n_plays\"]) \n",
    "plt.title(\"Play counts (sampled corpora)\")\n",
    "plt.ylabel(\"# plays\")\n",
    "plt.xticks(rotation=45, ha=\"right\")\n",
    "plt.tight_layout()\n",
    "plt.show()"
   ]
  },
  {
   "cell_type": "markdown",
   "id": "29d3ff7c",
   "metadata": {},
   "source": [
    "## Exercise\n",
    "\n",
    "1. Change `sample = corpora[:6]` to something like `sample = [c for c in corpora if c['id'] in ['ger', 'rus', 'ita']]`.\n",
    "2. Re-run the counting cell. Which corpus has the most plays?\n",
    "3. Optional: fetch the plays for one corpus (`dc.corpus_plays('ger')`) and list the first 5 titles as a table."
   ]
  },
  {
   "cell_type": "markdown",
   "id": "6782f781",
   "metadata": {},
   "source": [
    "> **Takeaways**\n",
    "> - You can access DraCor corpora and plays with a few lines of code.\n",
    "> - Keeping results in tidy DataFrames makes quick summaries and plots trivial.\n",
    "> - In later chapters we’ll navigate plays, characters, and networks in more detail."
   ]
  }
 ],
 "metadata": {
  "kernelspec": {
   "display_name": ".venv",
   "language": "python",
   "name": "python3"
  },
  "language_info": {
   "codemirror_mode": {
    "name": "ipython",
    "version": 3
   },
   "file_extension": ".py",
   "mimetype": "text/x-python",
   "name": "python",
   "nbconvert_exporter": "python",
   "pygments_lexer": "ipython3",
   "version": "3.12.1"
  }
 },
 "nbformat": 4,
 "nbformat_minor": 5
}