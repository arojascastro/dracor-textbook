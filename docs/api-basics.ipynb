{
 "cells": [
  {
   "cell_type": "markdown",
   "id": "837d88ec",
   "metadata": {},
   "source": [
    "# DraCor API basics (tutorial-style)\n",
    "\n",
    "This short chapter introduces the DraCor REST API and shows how to access it **directly with `requests`** (no helper modules). You will list available corpora and count plays in a few corpora using simple HTTP calls. The approach mirrors the original *API Tutorial* and keeps everything transparent and reproducible.\n"
   ]
  },
  {
   "cell_type": "markdown",
   "id": "7665fbdf",
   "metadata": {},
   "source": [
    "> **Learning goals**\n",
    "> - Understand the base URL and how to build API requests.\n",
    "> - List available corpora and read their abbreviations.\n",
    "> - Retrieve and summarise plays for selected corpora.\n",
    ">\n",
    "> **Requirements**\n",
    "> - Python (3.9+), internet connection.\n",
    "> - Packages: `requests`, `pandas`, `matplotlib` (already in this project’s `requirements.txt`).\n",
    ">\n",
    "> **What you'll do**\n",
    "> 1. Set a base API URL.  \n",
    "> 2. Fetch `/corpora` and inspect results.  \n",
    "> 3. Pick a few corpus abbreviations and count their plays.  \n",
    "> 4. Make a tiny bar chart.\n"
   ]
  },
  {
   "cell_type": "markdown",
   "id": "e9af56f8",
   "metadata": {},
   "source": [
    "## Concepts: REST, base URL, and endpoints\n",
    "\n",
    "- **REST API**: You request data over HTTP by visiting specific URLs and the server responds with JSON.\n",
    "- **Base URL**: The common prefix for all API endpoints in DraCor:  \n",
    "  `https://dracor.org/api/v1/`\n",
    "- **Endpoint**: The path you append to the base URL to request something specific. Examples:\n",
    "  - `corpora` → `https://dracor.org/api/v1/corpora`\n",
    "  - `corpora/{name}/plays` → `https://dracor.org/api/v1/corpora/ger/plays` (here `{name}` is the **abbreviation** of a corpus, e.g. `ger`, `eng`, `rus`).\n",
    "- **Abbreviation / corpus name**: In the `/corpora` response, the key `name` contains the short identifier you use in other endpoints.\n"
   ]
  },
  {
   "cell_type": "code",
   "execution_count": null,
   "id": "24bc9282",
   "metadata": {},
   "outputs": [],
   "source": [
    "import requests\n",
    "import pandas as pd\n",
    "import matplotlib.pyplot as plt\n",
    "\n",
    "API_URL = \"https://dracor.org/api/v1/\"\n",
    "print(\"Base URL:\", API_URL)"
   ]
  },
  {
   "cell_type": "markdown",
   "id": "a8406a4e",
   "metadata": {},
   "source": [
    "## 1) List corpora\n",
    "\n",
    "Request the list of corpora and inspect the first few entries. The `name` key is the abbreviation that you'll use in subsequent endpoints.\n"
   ]
  },
  {
   "cell_type": "code",
   "execution_count": null,
   "id": "4c04850d",
   "metadata": {},
   "outputs": [],
   "source": [
    "corpus_list = requests.get(API_URL + \"corpora\").json()\n",
    "\n",
    "# show the first few abbreviations (\"name\") and titles\n",
    "rows = [{\"name\": c.get(\"name\"), \"title\": c.get(\"title\", \"\")} for c in corpus_list]\n",
    "pd.DataFrame(rows).head(10)"
   ]
  },
  {
   "cell_type": "markdown",
   "id": "f0ceee06",
   "metadata": {},
   "source": [
    "## 2) Count plays in selected corpora\n",
    "\n",
    "Pick a few corpus abbreviations from the table above (e.g., `ger`, `eng`, `rus`, `dutch`) and count how many plays each contains.\n"
   ]
  },
  {
   "cell_type": "code",
   "execution_count": null,
   "id": "50766e61",
   "metadata": {},
   "outputs": [],
   "source": [
    "targets = [\"ger\", \"eng\", \"rus\", \"dutch\"]  # change this list as you like\n",
    "\n",
    "counts = []\n",
    "errors = []\n",
    "for name in targets:\n",
    "    url = f\"{API_URL}corpora/{name}/plays\"\n",
    "    try:\n",
    "        plays = requests.get(url).json()\n",
    "        counts.append({\"corpus\": name, \"n_plays\": len(plays)})\n",
    "    except Exception as e:\n",
    "        errors.append({\"corpus\": name, \"error\": str(e)})\n",
    "\n",
    "df_counts = pd.DataFrame(counts).sort_values(\"n_plays\", ascending=False).reset_index(drop=True)\n",
    "df_counts"
   ]
  },
  {
   "cell_type": "markdown",
   "id": "7c9860da",
   "metadata": {},
   "source": [
    "## 3) Visualise a tiny summary"
   ]
  },
  {
   "cell_type": "code",
   "execution_count": null,
   "id": "8e39f979",
   "metadata": {},
   "outputs": [],
   "source": [
    "if not df_counts.empty:\n",
    "    plt.figure(figsize=(6,3.5))\n",
    "    plt.bar(df_counts[\"corpus\"], df_counts[\"n_plays\"])\n",
    "    plt.title(\"Play counts (selected corpora)\")\n",
    "    plt.ylabel(\"# plays\")\n",
    "    plt.xticks(rotation=0)\n",
    "    plt.tight_layout()\n",
    "    plt.show()\n",
    "else:\n",
    "    print(\"No results to plot.\")"
   ]
  },
  {
   "cell_type": "markdown",
   "id": "09f6cd4a",
   "metadata": {},
   "source": [
    "## Exercise\n",
    "\n",
    "1. Replace `targets` with four different corpora from the table in step 1 and re-run the cells.\n",
    "2. For one of your corpora, list the first five play titles:\n",
    "   ```python\n",
    "   plays = requests.get(API_URL + \"corpora/ger/plays\").json()\n",
    "   pd.DataFrame([{\"id\": p.get(\"id\"), \"title\": p.get(\"title\", \"\")} for p in plays]).head()\n",
    "   ```\n",
    "3. Optional: Add a column for the **year** (if present) and compute the earliest/latest play in the corpus.\n"
   ]
  },
  {
   "cell_type": "markdown",
   "id": "bd79b2ae",
   "metadata": {},
   "source": [
    "> **Takeaways**\n",
    "> - An API call is just a URL (`base` + `endpoint`).  \n",
    "> - The `name` field from `/corpora` is the key you plug into other endpoints.  \n",
    "> - `requests.get(...).json()` gives you a Python list/dict you can turn into a DataFrame quickly.\n"
   ]
  }
 ],
 "metadata": {
  "kernelspec": {
   "display_name": "Python 3",
   "language": "python",
   "name": "python3"
  },
  "language_info": {
   "name": "python",
   "pygments_lexer": "ipython3"
  }
 },
 "nbformat": 4,
 "nbformat_minor": 5
}