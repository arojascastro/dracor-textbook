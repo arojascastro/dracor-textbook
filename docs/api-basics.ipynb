{
 "cells": [
  {
   "cell_type": "markdown",
   "id": "9e1255ea",
   "metadata": {},
   "source": [
    "# DraCor API: first steps\n",
    "\n",
    "This short chapter shows how to list DraCor corpora and peek at a few plays via the HTTP API using a tiny helper (`utils/dracor_client.py`)."
   ]
  },
  {
   "cell_type": "markdown",
   "id": "a0c95471",
   "metadata": {},
   "source": [
    "> **Learning goals**\n",
    "> - Call the DraCor API from Python.\n",
    "> - List available corpora and preview plays.\n",
    ">\n",
    "> **Requirements**\n",
    "> - Basic Python; internet connection.\n",
    ">\n",
    "> **What you'll do**\n",
    "> 1) Import a small API helper. 2) Fetch corpora. 3) Count plays in a few corpora.\n",
    ">\n",
    "> **Exercise (at the end)**\n",
    "> - Repeat for different corpora; compare sizes and languages."
   ]
  },
  {
   "cell_type": "code",
   "execution_count": null,
   "id": "633b49b4",
   "metadata": {},
   "outputs": [],
   "source": [
    "# Bootstrap import path so `from utils import dracor_client` works everywhere\n",
    "import os, sys\n",
    "from pathlib import Path\n",
    "\n",
    "# Try likely project roots relative to the notebook\n",
    "_candidates = [\n",
    "    Path.cwd(),                                 # running from docs/\n",
    "    Path.cwd().parent,                          # running from project root\n",
    "    Path(__file__).resolve().parents[1] if \"__file__\" in globals() else None,\n",
    "]\n",
    "for _p in [p for p in _candidates if p]:\n",
    "    if (_p / \"utils\" / \"dracor_client.py\").exists():\n",
    "        if str(_p) not in sys.path:\n",
    "            sys.path.insert(0, str(_p))\n",
    "        break\n",
    "\n",
    "import pandas as pd\n",
    "pd.set_option(\"display.max_colwidth\", 80)\n",
    "pd.set_option(\"display.precision\", 0)\n",
    "\n",
    "from datetime import datetime\n",
    "print(\"Last run:\", datetime.utcnow().strftime(\"%Y-%m-%d %H:%M UTC\"))"
   ]
  },
  {
   "cell_type": "code",
   "execution_count": null,
   "id": "4f1f2316",
   "metadata": {},
   "outputs": [],
   "source": [
    "from utils import dracor_client as dc\n",
    "\n",
    "corpora = dc.corpora()\n",
    "[c[\"slug\"] for c in corpora[:10]]"
   ]
  },
  {
   "cell_type": "code",
   "execution_count": null,
   "id": "a27f81dd",
   "metadata": {},
   "outputs": [],
   "source": [
    "import pandas as pd\n",
    "\n",
    "df_corpora = pd.DataFrame(corpora)\n",
    "keep = [c for c in [\"id\", \"name\", \"slug\", \"description\", \"languages\"] if c in df_corpora.columns]\n",
    "df_corpora[keep].head()"
   ]
  },
  {
   "cell_type": "markdown",
   "id": "5d400a5b",
   "metadata": {},
   "source": [
    "## How many plays per corpus?\n",
    "\n",
    "Let’s sample a handful of corpora and count how many plays each contains. If any corpus\n",
    "responds with an error, we’ll skip it and keep going (useful for transient API hiccups)."
   ]
  },
  {
   "cell_type": "code",
   "execution_count": null,
   "id": "03367070",
   "metadata": {},
   "outputs": [],
   "source": [
    "import pandas as pd\n",
    "import requests\n",
    "\n",
    "sample = corpora[:8]  # take the first few corpora for a quick preview\n",
    "\n",
    "rows = []\n",
    "failed = []\n",
    "\n",
    "for c in sample:\n",
    "    slug = c[\"slug\"]\n",
    "    try:\n",
    "        plays = dc.corpus_plays(slug)\n",
    "        rows.append({\"corpus\": slug, \"n_plays\": len(plays)})\n",
    "    except requests.HTTPError as e:\n",
    "        status = getattr(e.response, \"status_code\", \"HTTP\")\n",
    "        failed.append({\"corpus\": slug, \"error\": f\"{status}\"})\n",
    "    except Exception as e:\n",
    "        failed.append({\"corpus\": slug, \"error\": str(e)})\n",
    "\n",
    "df_counts = pd.DataFrame(rows).sort_values(\"n_plays\", ascending=False).reset_index(drop=True)\n",
    "df_counts"
   ]
  },
  {
   "cell_type": "code",
   "execution_count": null,
   "id": "f59cd805",
   "metadata": {},
   "outputs": [],
   "source": [
    "import matplotlib.pyplot as plt\n",
    "\n",
    "if not df_counts.empty:\n",
    "    plt.figure(figsize=(6,3.5))\n",
    "    plt.bar(df_counts[\"corpus\"], df_counts[\"n_plays\"])\n",
    "    plt.title(\"Play counts (sampled corpora)\")\n",
    "    plt.ylabel(\"# plays\")\n",
    "    plt.xticks(rotation=45, ha=\"right\")\n",
    "    plt.tight_layout()\n",
    "    plt.show()\n",
    "else:\n",
    "    print(\"No successful corpus responses to plot.\")"
   ]
  },
  {
   "cell_type": "markdown",
   "id": "78455469",
   "metadata": {},
   "source": [
    "## Exercise\n",
    "\n",
    "1. Change the sampling to a custom set, e.g.\n",
    "   ```python\n",
    "   wanted = {'ger','rus','shake','dutch'}\n",
    "   sample = [c for c in corpora if c['slug'] in wanted]\n",
    "   ```\n",
    "2. Re-run the counting cell. Which corpus has the most plays?\n",
    "3. Optional: fetch the plays for one corpus (`dc.corpus_plays('ger')`) and list the first 5 titles as a table."
   ]
  },
  {
   "cell_type": "markdown",
   "id": "e775fb2b",
   "metadata": {},
   "source": [
    "> **Takeaways**\n",
    "> - You can access DraCor corpora and plays with a few lines of code.\n",
    "> - Keeping results in tidy DataFrames makes quick summaries and plots trivial.\n",
    "> - Next chapters will navigate plays, characters, and networks in more detail."
   ]
  }
 ],
 "metadata": {
  "kernelspec": {
   "display_name": "Python 3",
   "language": "python",
   "name": "python3"
  },
  "language_info": {
   "name": "python",
   "pygments_lexer": "ipython3"
  }
 },
 "nbformat": 4,
 "nbformat_minor": 5
}