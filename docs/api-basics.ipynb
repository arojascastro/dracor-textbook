{
 "cells": [
  {
   "cell_type": "markdown",
   "id": "9e1255ea",
   "metadata": {},
   "source": [
    "# DraCor API: first steps\n",
    "\n",
    "This short chapter shows how to list DraCor corpora and peek at a few plays via the HTTP API using a tiny helper (`utils/dracor_client.py`)."
   ]
  },
  {
   "cell_type": "markdown",
   "id": "a0c95471",
   "metadata": {},
   "source": [
    "> **Learning goals**\n",
    "> - Call the DraCor API from Python.\n",
    "> - List available corpora and preview plays.\n",
    ">\n",
    "> **Requirements**\n",
    "> - Basic Python; internet connection.\n",
    ">\n",
    "> **What you'll do**\n",
    "> 1) Import a small API helper. 2) Fetch corpora. 3) Count plays in a few corpora.\n",
    ">\n",
    "> **Exercise (at the end)**\n",
    "> - Repeat for different corpora; compare sizes and languages."
   ]
  },
  {
   "cell_type": "code",
   "execution_count": 17,
   "id": "633b49b4",
   "metadata": {},
   "outputs": [
    {
     "name": "stdout",
     "output_type": "stream",
     "text": [
      "Last run: 2025-08-27 14:49 UTC\n"
     ]
    },
    {
     "name": "stderr",
     "output_type": "stream",
     "text": [
      "/var/folders/84/8bnpqjtx4gdbqmjxlnf650vw0000gn/T/ipykernel_56296/3315144086.py:22: DeprecationWarning: datetime.datetime.utcnow() is deprecated and scheduled for removal in a future version. Use timezone-aware objects to represent datetimes in UTC: datetime.datetime.now(datetime.UTC).\n",
      "  print(\"Last run:\", datetime.utcnow().strftime(\"%Y-%m-%d %H:%M UTC\"))\n"
     ]
    }
   ],
   "source": [
    "# Bootstrap import path so `from utils import dracor_client` works everywhere\n",
    "import os, sys\n",
    "from pathlib import Path\n",
    "\n",
    "# Try likely project roots relative to the notebook\n",
    "_candidates = [\n",
    "    Path.cwd(),                                 # running from docs/\n",
    "    Path.cwd().parent,                          # running from project root\n",
    "    Path(__file__).resolve().parents[1] if \"__file__\" in globals() else None,\n",
    "]\n",
    "for _p in [p for p in _candidates if p]:\n",
    "    if (_p / \"utils\" / \"dracor_client.py\").exists():\n",
    "        if str(_p) not in sys.path:\n",
    "            sys.path.insert(0, str(_p))\n",
    "        break\n",
    "\n",
    "import pandas as pd\n",
    "pd.set_option(\"display.max_colwidth\", 80)\n",
    "pd.set_option(\"display.precision\", 0)\n",
    "\n",
    "from datetime import datetime\n",
    "print(\"Last run:\", datetime.utcnow().strftime(\"%Y-%m-%d %H:%M UTC\"))"
   ]
  },
  {
   "cell_type": "code",
   "execution_count": 18,
   "id": "4f1f2316",
   "metadata": {},
   "outputs": [
    {
     "ename": "KeyError",
     "evalue": "'slug'",
     "output_type": "error",
     "traceback": [
      "\u001b[31m---------------------------------------------------------------------------\u001b[39m",
      "\u001b[31mKeyError\u001b[39m                                  Traceback (most recent call last)",
      "\u001b[36mCell\u001b[39m\u001b[36m \u001b[39m\u001b[32mIn[18]\u001b[39m\u001b[32m, line 4\u001b[39m\n\u001b[32m      1\u001b[39m \u001b[38;5;28;01mfrom\u001b[39;00m\u001b[38;5;250m \u001b[39m\u001b[34;01mutils\u001b[39;00m\u001b[38;5;250m \u001b[39m\u001b[38;5;28;01mimport\u001b[39;00m dracor_client \u001b[38;5;28;01mas\u001b[39;00m dc\n\u001b[32m      3\u001b[39m corpora = dc.corpora()\n\u001b[32m----> \u001b[39m\u001b[32m4\u001b[39m [\u001b[43mc\u001b[49m\u001b[43m[\u001b[49m\u001b[33;43m\"\u001b[39;49m\u001b[33;43mslug\u001b[39;49m\u001b[33;43m\"\u001b[39;49m\u001b[43m]\u001b[49m \u001b[38;5;28;01mfor\u001b[39;00m c \u001b[38;5;129;01min\u001b[39;00m corpora[:\u001b[32m10\u001b[39m]]\n",
      "\u001b[31mKeyError\u001b[39m: 'slug'"
     ]
    }
   ],
   "source": [
    "from utils import dracor_client as dc\n",
    "\n",
    "corpora = dc.corpora()\n",
    "[c[\"slug\"] for c in corpora[:10]]"
   ]
  },
  {
   "cell_type": "code",
   "execution_count": 19,
   "id": "a27f81dd",
   "metadata": {},
   "outputs": [
    {
     "data": {
      "text/html": [
       "<div>\n",
       "<style scoped>\n",
       "    .dataframe tbody tr th:only-of-type {\n",
       "        vertical-align: middle;\n",
       "    }\n",
       "\n",
       "    .dataframe tbody tr th {\n",
       "        vertical-align: top;\n",
       "    }\n",
       "\n",
       "    .dataframe thead th {\n",
       "        text-align: right;\n",
       "    }\n",
       "</style>\n",
       "<table border=\"1\" class=\"dataframe\">\n",
       "  <thead>\n",
       "    <tr style=\"text-align: right;\">\n",
       "      <th></th>\n",
       "      <th>name</th>\n",
       "      <th>description</th>\n",
       "    </tr>\n",
       "  </thead>\n",
       "  <tbody>\n",
       "    <tr>\n",
       "      <th>0</th>\n",
       "      <td>als</td>\n",
       "      <td>Edited by Pablo Ruiz Fabo ([MeThAL project](https://methal.pages.unistra.fr/...</td>\n",
       "    </tr>\n",
       "    <tr>\n",
       "      <th>1</th>\n",
       "      <td>am</td>\n",
       "      <td>Edited by Dennis Mischke, Luca Giovannini, Daniil Skorinkin. A vanilla corpu...</td>\n",
       "    </tr>\n",
       "    <tr>\n",
       "      <th>2</th>\n",
       "      <td>bash</td>\n",
       "      <td>Edited by Boris Orekhov. Contains a growing number of plays in the Bashkir l...</td>\n",
       "    </tr>\n",
       "    <tr>\n",
       "      <th>3</th>\n",
       "      <td>cal</td>\n",
       "      <td>Edited by members of the [Institute of Romance Languages and Literatures at ...</td>\n",
       "    </tr>\n",
       "    <tr>\n",
       "      <th>4</th>\n",
       "      <td>dutch</td>\n",
       "      <td>Edited by Lucas van der Deijl. Features 180 Dutch-language plays from 1539-1...</td>\n",
       "    </tr>\n",
       "  </tbody>\n",
       "</table>\n",
       "</div>"
      ],
      "text/plain": [
       "    name  \\\n",
       "0    als   \n",
       "1     am   \n",
       "2   bash   \n",
       "3    cal   \n",
       "4  dutch   \n",
       "\n",
       "                                                                       description  \n",
       "0  Edited by Pablo Ruiz Fabo ([MeThAL project](https://methal.pages.unistra.fr/...  \n",
       "1  Edited by Dennis Mischke, Luca Giovannini, Daniil Skorinkin. A vanilla corpu...  \n",
       "2  Edited by Boris Orekhov. Contains a growing number of plays in the Bashkir l...  \n",
       "3  Edited by members of the [Institute of Romance Languages and Literatures at ...  \n",
       "4  Edited by Lucas van der Deijl. Features 180 Dutch-language plays from 1539-1...  "
      ]
     },
     "execution_count": 19,
     "metadata": {},
     "output_type": "execute_result"
    }
   ],
   "source": [
    "import pandas as pd\n",
    "\n",
    "df_corpora = pd.DataFrame(corpora)\n",
    "keep = [c for c in [\"id\", \"name\", \"slug\", \"description\", \"languages\"] if c in df_corpora.columns]\n",
    "df_corpora[keep].head()"
   ]
  },
  {
   "cell_type": "markdown",
   "id": "5d400a5b",
   "metadata": {},
   "source": [
    "## How many plays per corpus?\n",
    "\n",
    "Let’s sample a handful of corpora and count how many plays each contains. If any corpus\n",
    "responds with an error, we’ll skip it and keep going (useful for transient API hiccups)."
   ]
  },
  {
   "cell_type": "code",
   "execution_count": 21,
   "id": "03367070",
   "metadata": {},
   "outputs": [
    {
     "ename": "KeyError",
     "evalue": "'slug'",
     "output_type": "error",
     "traceback": [
      "\u001b[31m---------------------------------------------------------------------------\u001b[39m",
      "\u001b[31mKeyError\u001b[39m                                  Traceback (most recent call last)",
      "\u001b[36mCell\u001b[39m\u001b[36m \u001b[39m\u001b[32mIn[21]\u001b[39m\u001b[32m, line 10\u001b[39m\n\u001b[32m      7\u001b[39m failed = []\n\u001b[32m      9\u001b[39m \u001b[38;5;28;01mfor\u001b[39;00m c \u001b[38;5;129;01min\u001b[39;00m sample:\n\u001b[32m---> \u001b[39m\u001b[32m10\u001b[39m     slug = \u001b[43mc\u001b[49m\u001b[43m[\u001b[49m\u001b[33;43m\"\u001b[39;49m\u001b[33;43mslug\u001b[39;49m\u001b[33;43m\"\u001b[39;49m\u001b[43m]\u001b[49m\n\u001b[32m     11\u001b[39m     \u001b[38;5;28;01mtry\u001b[39;00m:\n\u001b[32m     12\u001b[39m         plays = dc.corpus_plays(slug)\n",
      "\u001b[31mKeyError\u001b[39m: 'slug'"
     ]
    }
   ],
   "source": [
    "import pandas as pd\n",
    "import requests\n",
    "\n",
    "sample = corpora[:8]  # take the first few corpora for a quick preview\n",
    "\n",
    "rows = []\n",
    "failed = []\n",
    "\n",
    "for c in sample:\n",
    "    slug = c[\"slug\"]\n",
    "    try:\n",
    "        plays = dc.corpus_plays(slug)\n",
    "        rows.append({\"corpus\": slug, \"n_plays\": len(plays)})\n",
    "    except requests.HTTPError as e:\n",
    "        status = getattr(e.response, \"status_code\", \"HTTP\")\n",
    "        failed.append({\"corpus\": slug, \"error\": f\"{status}\"})\n",
    "    except Exception as e:\n",
    "        failed.append({\"corpus\": slug, \"error\": str(e)})\n",
    "\n",
    "df_counts = pd.DataFrame(rows).sort_values(\"n_plays\", ascending=False).reset_index(drop=True)\n",
    "df_counts"
   ]
  },
  {
   "cell_type": "code",
   "execution_count": 22,
   "id": "f59cd805",
   "metadata": {},
   "outputs": [
    {
     "ename": "NameError",
     "evalue": "name 'df_counts' is not defined",
     "output_type": "error",
     "traceback": [
      "\u001b[31m---------------------------------------------------------------------------\u001b[39m",
      "\u001b[31mNameError\u001b[39m                                 Traceback (most recent call last)",
      "\u001b[36mCell\u001b[39m\u001b[36m \u001b[39m\u001b[32mIn[22]\u001b[39m\u001b[32m, line 3\u001b[39m\n\u001b[32m      1\u001b[39m \u001b[38;5;28;01mimport\u001b[39;00m\u001b[38;5;250m \u001b[39m\u001b[34;01mmatplotlib\u001b[39;00m\u001b[34;01m.\u001b[39;00m\u001b[34;01mpyplot\u001b[39;00m\u001b[38;5;250m \u001b[39m\u001b[38;5;28;01mas\u001b[39;00m\u001b[38;5;250m \u001b[39m\u001b[34;01mplt\u001b[39;00m\n\u001b[32m----> \u001b[39m\u001b[32m3\u001b[39m \u001b[38;5;28;01mif\u001b[39;00m \u001b[38;5;129;01mnot\u001b[39;00m \u001b[43mdf_counts\u001b[49m.empty:\n\u001b[32m      4\u001b[39m     plt.figure(figsize=(\u001b[32m6\u001b[39m,\u001b[32m3.5\u001b[39m))\n\u001b[32m      5\u001b[39m     plt.bar(df_counts[\u001b[33m\"\u001b[39m\u001b[33mcorpus\u001b[39m\u001b[33m\"\u001b[39m], df_counts[\u001b[33m\"\u001b[39m\u001b[33mn_plays\u001b[39m\u001b[33m\"\u001b[39m])\n",
      "\u001b[31mNameError\u001b[39m: name 'df_counts' is not defined"
     ]
    }
   ],
   "source": [
    "import matplotlib.pyplot as plt\n",
    "\n",
    "if not df_counts.empty:\n",
    "    plt.figure(figsize=(6,3.5))\n",
    "    plt.bar(df_counts[\"corpus\"], df_counts[\"n_plays\"])\n",
    "    plt.title(\"Play counts (sampled corpora)\")\n",
    "    plt.ylabel(\"# plays\")\n",
    "    plt.xticks(rotation=45, ha=\"right\")\n",
    "    plt.tight_layout()\n",
    "    plt.show()\n",
    "else:\n",
    "    print(\"No successful corpus responses to plot.\")"
   ]
  },
  {
   "cell_type": "markdown",
   "id": "78455469",
   "metadata": {},
   "source": [
    "## Exercise\n",
    "\n",
    "1. Change the sampling to a custom set, e.g.\n",
    "   ```python\n",
    "   wanted = {'ger','rus','shake','dutch'}\n",
    "   sample = [c for c in corpora if c['slug'] in wanted]\n",
    "   ```\n",
    "2. Re-run the counting cell. Which corpus has the most plays?\n",
    "3. Optional: fetch the plays for one corpus (`dc.corpus_plays('ger')`) and list the first 5 titles as a table."
   ]
  },
  {
   "cell_type": "markdown",
   "id": "e775fb2b",
   "metadata": {},
   "source": [
    "> **Takeaways**\n",
    "> - You can access DraCor corpora and plays with a few lines of code.\n",
    "> - Keeping results in tidy DataFrames makes quick summaries and plots trivial.\n",
    "> - Next chapters will navigate plays, characters, and networks in more detail."
   ]
  }
 ],
 "metadata": {
  "kernelspec": {
   "display_name": "Python 3",
   "language": "python",
   "name": "python3"
  },
  "language_info": {
   "name": "python",
   "pygments_lexer": "ipython3"
  }
 },
 "nbformat": 4,
 "nbformat_minor": 5
}
