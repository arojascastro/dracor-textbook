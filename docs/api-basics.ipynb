{
 "cells": [
  {
   "cell_type": "markdown",
   "id": "837d88ec",
   "metadata": {},
   "source": [
    "# DraCor API basics\n",
    "\n",
    "This short chapter introduces the DraCor REST API and shows how to access it **directly with `requests`**. You will list available corpora and count plays in a few corpora using simple HTTP calls. The approach mirrors the original *API Tutorial* and keeps everything transparent and reproducible.\n"
   ]
  },
  {
   "cell_type": "markdown",
   "id": "7665fbdf",
   "metadata": {},
   "source": [
    "> **Learning goals**\n",
    "> - Understand the base URL and how to build API requests.\n",
    "> - List available corpora and read their abbreviations.\n",
    "> - Retrieve and summarise plays for selected corpora.\n",
    ">\n",
    "> **Requirements**\n",
    "> - Python (3.9+), internet connection.\n",
    "> - Packages: `requests`, `pandas`, `matplotlib` (already in this project’s `requirements.txt`).\n",
    ">\n",
    "> **What you'll do**\n",
    "> 1. Set a base API URL.  \n",
    "> 2. Fetch `/corpora` and inspect results.  \n",
    "> 3. Pick a few corpus abbreviations and count their plays.  \n",
    "> 4. Make a tiny bar chart.\n"
   ]
  },
  {
   "cell_type": "markdown",
   "id": "e9af56f8",
   "metadata": {},
   "source": [
    "## Concepts: REST, base URL, and endpoints\n",
    "\n",
    "- **REST API**: You request data over HTTP by visiting specific URLs and the server responds with JSON.\n",
    "- **Base URL**: The common prefix for all API endpoints in DraCor:  \n",
    "  `https://dracor.org/api/v1/`\n",
    "- **Endpoint**: The path you append to the base URL to request something specific. Examples:\n",
    "  - `corpora` → `https://dracor.org/api/v1/corpora`\n",
    "  - `corpora/{name}/plays` → `https://dracor.org/api/v1/corpora/ger/plays` (here `{name}` is the **abbreviation** of a corpus, e.g. `ger`, `eng`, `rus`).\n",
    "- **Abbreviation / corpus name**: In the `/corpora` response, the key `name` contains the short identifier you use in other endpoints.\n"
   ]
  },
  {
   "cell_type": "code",
   "execution_count": 7,
   "id": "24bc9282",
   "metadata": {},
   "outputs": [
    {
     "name": "stdout",
     "output_type": "stream",
     "text": [
      "Base URL: https://dracor.org/api/v1/\n"
     ]
    }
   ],
   "source": [
    "import requests\n",
    "import pandas as pd\n",
    "import matplotlib.pyplot as plt\n",
    "\n",
    "API_URL = \"https://dracor.org/api/v1/\"\n",
    "print(\"Base URL:\", API_URL)"
   ]
  },
  {
   "cell_type": "markdown",
   "id": "a8406a4e",
   "metadata": {},
   "source": [
    "## 1) List corpora\n",
    "\n",
    "Request the list of corpora and inspect the first few entries. The `name` key is the abbreviation that you'll use in subsequent endpoints.\n"
   ]
  },
  {
   "cell_type": "code",
   "execution_count": 8,
   "id": "4c04850d",
   "metadata": {},
   "outputs": [
    {
     "data": {
      "text/html": [
       "<div>\n",
       "<style scoped>\n",
       "    .dataframe tbody tr th:only-of-type {\n",
       "        vertical-align: middle;\n",
       "    }\n",
       "\n",
       "    .dataframe tbody tr th {\n",
       "        vertical-align: top;\n",
       "    }\n",
       "\n",
       "    .dataframe thead th {\n",
       "        text-align: right;\n",
       "    }\n",
       "</style>\n",
       "<table border=\"1\" class=\"dataframe\">\n",
       "  <thead>\n",
       "    <tr style=\"text-align: right;\">\n",
       "      <th></th>\n",
       "      <th>name</th>\n",
       "      <th>title</th>\n",
       "    </tr>\n",
       "  </thead>\n",
       "  <tbody>\n",
       "    <tr>\n",
       "      <th>0</th>\n",
       "      <td>als</td>\n",
       "      <td>Alsatian Drama Corpus</td>\n",
       "    </tr>\n",
       "    <tr>\n",
       "      <th>1</th>\n",
       "      <td>am</td>\n",
       "      <td>American Drama Corpus</td>\n",
       "    </tr>\n",
       "    <tr>\n",
       "      <th>2</th>\n",
       "      <td>bash</td>\n",
       "      <td>Bashkir Drama Corpus</td>\n",
       "    </tr>\n",
       "    <tr>\n",
       "      <th>3</th>\n",
       "      <td>cal</td>\n",
       "      <td>Calderón Drama Corpus</td>\n",
       "    </tr>\n",
       "    <tr>\n",
       "      <th>4</th>\n",
       "      <td>dutch</td>\n",
       "      <td>Dutch Drama Corpus</td>\n",
       "    </tr>\n",
       "    <tr>\n",
       "      <th>5</th>\n",
       "      <td>eng</td>\n",
       "      <td>English Drama Corpus</td>\n",
       "    </tr>\n",
       "    <tr>\n",
       "      <th>6</th>\n",
       "      <td>fre</td>\n",
       "      <td>French Drama Corpus</td>\n",
       "    </tr>\n",
       "    <tr>\n",
       "      <th>7</th>\n",
       "      <td>ger</td>\n",
       "      <td>German Drama Corpus</td>\n",
       "    </tr>\n",
       "    <tr>\n",
       "      <th>8</th>\n",
       "      <td>gersh</td>\n",
       "      <td>German Shakespeare Drama Corpus</td>\n",
       "    </tr>\n",
       "    <tr>\n",
       "      <th>9</th>\n",
       "      <td>greek</td>\n",
       "      <td>Greek Drama Corpus</td>\n",
       "    </tr>\n",
       "  </tbody>\n",
       "</table>\n",
       "</div>"
      ],
      "text/plain": [
       "    name                            title\n",
       "0    als            Alsatian Drama Corpus\n",
       "1     am            American Drama Corpus\n",
       "2   bash             Bashkir Drama Corpus\n",
       "3    cal            Calderón Drama Corpus\n",
       "4  dutch               Dutch Drama Corpus\n",
       "5    eng             English Drama Corpus\n",
       "6    fre              French Drama Corpus\n",
       "7    ger              German Drama Corpus\n",
       "8  gersh  German Shakespeare Drama Corpus\n",
       "9  greek               Greek Drama Corpus"
      ]
     },
     "execution_count": 8,
     "metadata": {},
     "output_type": "execute_result"
    }
   ],
   "source": [
    "corpus_list = requests.get(API_URL + \"corpora\").json()\n",
    "\n",
    "# show the first few abbreviations (\"name\") and titles\n",
    "rows = [{\"name\": c.get(\"name\"), \"title\": c.get(\"title\", \"\")} for c in corpus_list]\n",
    "pd.DataFrame(rows).head(10)"
   ]
  },
  {
   "cell_type": "markdown",
   "id": "f0ceee06",
   "metadata": {},
   "source": [
    "## 2) Count plays in selected corpora\n",
    "\n",
    "Pick a few corpus abbreviations from the table above (e.g., `ger`, `eng`, `rus`, `dutch`) and count how many plays each contains.\n"
   ]
  },
  {
   "cell_type": "code",
   "execution_count": null,
   "id": "50766e61",
   "metadata": {},
   "outputs": [
    {
     "name": "stdout",
     "output_type": "stream",
     "text": [
      "Using corpora: ['ger', 'eng', 'rus', 'dutch']\n"
     ]
    },
    {
     "data": {
      "text/html": [
       "<div>\n",
       "<style scoped>\n",
       "    .dataframe tbody tr th:only-of-type {\n",
       "        vertical-align: middle;\n",
       "    }\n",
       "\n",
       "    .dataframe tbody tr th {\n",
       "        vertical-align: top;\n",
       "    }\n",
       "\n",
       "    .dataframe thead th {\n",
       "        text-align: right;\n",
       "    }\n",
       "</style>\n",
       "<table border=\"1\" class=\"dataframe\">\n",
       "  <thead>\n",
       "    <tr style=\"text-align: right;\">\n",
       "      <th></th>\n",
       "      <th>corpus</th>\n",
       "      <th>n_plays</th>\n",
       "    </tr>\n",
       "  </thead>\n",
       "  <tbody>\n",
       "    <tr>\n",
       "      <th>0</th>\n",
       "      <td>eng</td>\n",
       "      <td>435</td>\n",
       "    </tr>\n",
       "    <tr>\n",
       "      <th>1</th>\n",
       "      <td>rus</td>\n",
       "      <td>212</td>\n",
       "    </tr>\n",
       "    <tr>\n",
       "      <th>2</th>\n",
       "      <td>dutch</td>\n",
       "      <td>186</td>\n",
       "    </tr>\n",
       "  </tbody>\n",
       "</table>\n",
       "</div>"
      ],
      "text/plain": [
       "  corpus  n_plays\n",
       "0    eng      435\n",
       "1    rus      212\n",
       "2  dutch      186"
      ]
     },
     "metadata": {},
     "output_type": "display_data"
    },
    {
     "name": "stdout",
     "output_type": "stream",
     "text": [
      "\n",
      "Errors:\n"
     ]
    },
    {
     "data": {
      "text/html": [
       "<div>\n",
       "<style scoped>\n",
       "    .dataframe tbody tr th:only-of-type {\n",
       "        vertical-align: middle;\n",
       "    }\n",
       "\n",
       "    .dataframe tbody tr th {\n",
       "        vertical-align: top;\n",
       "    }\n",
       "\n",
       "    .dataframe thead th {\n",
       "        text-align: right;\n",
       "    }\n",
       "</style>\n",
       "<table border=\"1\" class=\"dataframe\">\n",
       "  <thead>\n",
       "    <tr style=\"text-align: right;\">\n",
       "      <th></th>\n",
       "      <th>corpus</th>\n",
       "      <th>error</th>\n",
       "    </tr>\n",
       "  </thead>\n",
       "  <tbody>\n",
       "    <tr>\n",
       "      <th>0</th>\n",
       "      <td>ger</td>\n",
       "      <td>HTTPSConnectionPool(host='dracor.org', port=44...</td>\n",
       "    </tr>\n",
       "  </tbody>\n",
       "</table>\n",
       "</div>"
      ],
      "text/plain": [
       "  corpus                                              error\n",
       "0    ger  HTTPSConnectionPool(host='dracor.org', port=44..."
      ]
     },
     "metadata": {},
     "output_type": "display_data"
    }
   ],
   "source": [
    "if \"abbrevs\" not in globals():\n",
    "    corpus_list = requests.get(API_URL + \"corpora\", timeout=20).json()\n",
    "    abbrevs = [c.get(\"name\") for c in corpus_list if c.get(\"name\")]\n",
    "\n",
    "targets = [\"cal\", \"eng\", \"rus\", \"dutch\"]\n",
    "targets = [t for t in targets if t in abbrevs] or abbrevs[:4]\n",
    "print(\"Using corpora:\", targets)\n",
    "\n",
    "def count_plays_csv(corpus_abbr: str) -> int:\n",
    "    \"\"\"\n",
    "    Count plays in a corpus from the CSV metadata endpoint.\n",
    "    This mirrors the original tutorial: /corpora/{name}/metadata with Accept: text/csv\n",
    "    \"\"\"\n",
    "    url = f\"{API_URL}corpora/{corpus_abbr}/metadata\"\n",
    "    r = requests.get(url, headers={\"Accept\": \"text/csv\"}, timeout=30)\n",
    "    r.raise_for_status()\n",
    "    # Read CSV into a DataFrame; number of rows == number of plays\n",
    "    df = pd.read_csv(io.StringIO(r.text))\n",
    "    return len(df)\n",
    "\n",
    "rows, errors = [], []\n",
    "for abbr in targets:\n",
    "    try:\n",
    "        n = count_plays_csv(abbr)\n",
    "        rows.append({\"corpus\": abbr, \"n_plays\": n})\n",
    "    except Exception as e:\n",
    "        errors.append({\"corpus\": abbr, \"error\": str(e)})\n",
    "\n",
    "if rows:\n",
    "    df_counts = pd.DataFrame(rows).sort_values(\"n_plays\", ascending=False).reset_index(drop=True)\n",
    "    display(df_counts)\n",
    "else:\n",
    "    print(\"No successful responses.\")\n",
    "\n",
    "if errors:\n",
    "    print(\"\\nErrors:\")\n",
    "    display(pd.DataFrame(errors))"
   ]
  },
  {
   "cell_type": "markdown",
   "id": "7c9860da",
   "metadata": {},
   "source": [
    "## 3) Visualise a tiny summary"
   ]
  },
  {
   "cell_type": "code",
   "execution_count": 10,
   "id": "8e39f979",
   "metadata": {},
   "outputs": [
    {
     "data": {
      "image/png": "[encoded data removed]",
      "text/plain": [
       "<Figure size 600x350 with 1 Axes>"
      ]
     },
     "metadata": {},
     "output_type": "display_data"
    }
   ],
   "source": [
    "if not df_counts.empty:\n",
    "    plt.figure(figsize=(6,3.5))\n",
    "    plt.bar(df_counts[\"corpus\"], df_counts[\"n_plays\"])\n",
    "    plt.title(\"Play counts (selected corpora)\")\n",
    "    plt.ylabel(\"# plays\")\n",
    "    plt.xticks(rotation=0)\n",
    "    plt.tight_layout()\n",
    "    plt.show()\n",
    "else:\n",
    "    print(\"No results to plot.\")"
   ]
  },
  {
   "cell_type": "markdown",
   "id": "09f6cd4a",
   "metadata": {},
   "source": [
    "## Exercise\n",
    "\n",
    "1. Replace `targets` with four different corpora from the table in step 1 and re-run the cells.\n",
    "2. For one of your corpora, list the first five play titles:\n",
    "   ```python\n",
    "   plays = requests.get(API_URL + \"corpora/ger/plays\").json()\n",
    "   pd.DataFrame([{\"id\": p.get(\"id\"), \"title\": p.get(\"title\", \"\")} for p in plays]).head()\n",
    "   ```\n",
    "3. Optional: Add a column for the **year** (if present) and compute the earliest/latest play in the corpus.\n"
   ]
  },
  {
   "cell_type": "markdown",
   "id": "bd79b2ae",
   "metadata": {},
   "source": [
    "> **Takeaways**\n",
    "> - An API call is just a URL (`base` + `endpoint`).  \n",
    "> - The `name` field from `/corpora` is the key you plug into other endpoints.  \n",
    "> - `requests.get(...).json()` gives you a Python list/dict you can turn into a DataFrame quickly.\n"
   ]
  }
 ],
 "metadata": {
  "kernelspec": {
   "display_name": "Python 3",
   "language": "python",
   "name": "python3"
  },
  "language_info": {
   "name": "python",
   "pygments_lexer": "ipython3"
  }
 },
 "nbformat": 4,
 "nbformat_minor": 5
}
