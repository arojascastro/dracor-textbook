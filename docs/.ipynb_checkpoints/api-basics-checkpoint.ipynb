{
 "cells": [
  {
   "cell_type": "markdown",
   "id": "30bc98f5",
   "metadata": {},
   "source": [
    "# DraCor API: first steps\n",
    "\n",
    "This short chapter shows how to list DraCor corpora and peek at a few plays via the HTTP API using a tiny helper (`utils/dracor_client.py`)."
   ]
  },
  {
   "cell_type": "markdown",
   "id": "13a17ae6",
   "metadata": {},
   "source": [
    "> **Learning goals**\n",
    "> - Call the DraCor API from Python.\n",
    "> - List available corpora and preview plays.\n",
    ">\n",
    "> **Requirements**\n",
    "> - Basic Python; internet connection.\n",
    ">\n",
    "> **What you'll do**\n",
    "> 1) Import a small API helper. 2) Fetch corpora. 3) Count plays in a few corpora.\n",
    ">\n",
    "> **Exercise (at the end)**\n",
    "> - Repeat for different corpora; compare sizes and languages."
   ]
  },
  {
   "cell_type": "code",
   "execution_count": null,
   "id": "1da7ffc4",
   "metadata": {},
   "outputs": [],
   "source": [
    "# Setup (pretty display and imports)\n",
    "import pandas as pd\n",
    "pd.set_option(\"display.max_colwidth\", 80)\n",
    "pd.set_option(\"display.precision\", 0)\n",
    "\n",
    "from utils import dracor_client as dc\n",
    "from datetime import datetime\n",
    "print(\"Last run:\", datetime.utcnow().strftime(\"%Y-%m-%d %H:%M UTC\"))"
   ]
  },
  {
   "cell_type": "code",
   "execution_count": null,
   "id": "a5248af0",
   "metadata": {},
   "outputs": [],
   "source": [
    "# 1) Fetch all corpora\n",
    "corpora = dc.corpora()\n",
    "len(corpora), corpora[:2]  # quick sanity check (length + first 2 items)"
   ]
  },
  {
   "cell_type": "code",
   "execution_count": null,
   "id": "d71506d0",
   "metadata": {},
   "outputs": [],
   "source": [
    "# 2) Put corpora into a tidy DataFrame\n",
    "df_corpora = pd.DataFrame(corpora)\n",
    "# Different corpora may expose different metadata; keep safe columns.\n",
    "keep = [c for c in [\"id\", \"name\", \"description\", \"languages\"] if c in df_corpora.columns]\n",
    "df_corpora[keep].head().style.set_properties(**{\"text-align\": \"left\"})"
   ]
  },
  {
   "cell_type": "markdown",
   "id": "e500e142",
   "metadata": {},
   "source": [
    "## How many plays per corpus?\n",
    "Let’s sample a handful of corpora and count how many plays each contains."
   ]
  },
  {
   "cell_type": "code",
   "execution_count": null,
   "id": "92ad27fc",
   "metadata": {},
   "outputs": [],
   "source": [
    "sample = corpora[:6]  # take the first six corpora for a quick preview\n",
    "rows = []\n",
    "for c in sample:\n",
    "    cid = c.get(\"id\")\n",
    "    try:\n",
    "        plays = dc.corpus_plays(cid)\n",
    "        rows.append({\"corpus\": cid, \"n_plays\": len(plays)})\n",
    "    except Exception as e:\n",
    "        rows.append({\"corpus\": cid, \"n_plays\": None, \"error\": str(e)[:60]})\n",
    "pd.DataFrame(rows)"
   ]
  },
  {
   "cell_type": "code",
   "execution_count": null,
   "id": "3b797b19",
   "metadata": {},
   "outputs": [],
   "source": [
    "# 3) Small bar chart (top: first six corpora)\n",
    "import matplotlib.pyplot as plt\n",
    "counts = pd.DataFrame(rows).dropna(subset=[\"n_plays\"]).sort_values(\"n_plays\", ascending=False)\n",
    "plt.figure(figsize=(6,3.5))\n",
    "plt.bar(counts[\"corpus\"], counts[\"n_plays\"]) \n",
    "plt.title(\"Play counts (sampled corpora)\")\n",
    "plt.ylabel(\"# plays\")\n",
    "plt.xticks(rotation=45, ha=\"right\")\n",
    "plt.tight_layout()\n",
    "plt.show()"
   ]
  },
  {
   "cell_type": "markdown",
   "id": "357e1b70",
   "metadata": {},
   "source": [
    "## Exercise\n",
    "\n",
    "1. Change `sample = corpora[:6]` to something like `sample = [c for c in corpora if c['id'] in ['ger', 'rus', 'ita']]`.\n",
    "2. Re-run the counting cell. Which corpus has the most plays?\n",
    "3. Optional: fetch the plays for one corpus (`dc.corpus_plays('ger')`) and list the first 5 titles as a table."
   ]
  },
  {
   "cell_type": "markdown",
   "id": "e32f8855",
   "metadata": {},
   "source": [
    "> **Takeaways**\n",
    "> - You can access DraCor corpora and plays with a few lines of code.\n",
    "> - Keeping results in tidy DataFrames makes quick summaries and plots trivial.\n",
    "> - In later chapters we’ll navigate plays, characters, and networks in more detail."
   ]
  }
 ],
 "metadata": {
  "kernelspec": {
   "display_name": "Python 3 (ipykernel)",
   "language": "python",
   "name": "python3"
  },
  "language_info": {
   "codemirror_mode": {
    "name": "ipython",
    "version": 3
   },
   "file_extension": ".py",
   "mimetype": "text/x-python",
   "name": "python",
   "nbconvert_exporter": "python",
   "pygments_lexer": "ipython3",
   "version": "3.12.1"
  }
 },
 "nbformat": 4,
 "nbformat_minor": 5
}
